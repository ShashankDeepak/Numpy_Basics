{
 "cells": [
  {
   "cell_type": "code",
   "execution_count": 2,
   "metadata": {},
   "outputs": [
    {
     "name": "stdout",
     "output_type": "stream",
     "text": [
      "[1 2 3 4 5 6 7 8 9]\n",
      "[   1   16   81  256  625 1296 2401 4096 6561]\n",
      "[1 2 3 4 5 6 7 8 9]\n"
     ]
    }
   ],
   "source": [
    "import numpy as np\n",
    "\n",
    "temp = x = np.arange(1,10) #createas a numpy array of 1 -> 8\n",
    "print(x)\n",
    "print(x**4) #each element in x to the power of 4\n",
    "x = temp #copies array from temp to x\n",
    "print(x)"
   ]
  },
  {
   "attachments": {},
   "cell_type": "markdown",
   "metadata": {},
   "source": [
    "<h3>1D Array"
   ]
  },
  {
   "cell_type": "code",
   "execution_count": null,
   "metadata": {},
   "outputs": [],
   "source": [
    "#There another way to create an array\n",
    "x = np.array([1,2,3])\n",
    "x.ndim #gives the dimension of the array\n",
    "print(x)"
   ]
  },
  {
   "attachments": {},
   "cell_type": "markdown",
   "metadata": {},
   "source": [
    "<h3>2D Array"
   ]
  },
  {
   "cell_type": "code",
   "execution_count": null,
   "metadata": {},
   "outputs": [],
   "source": [
    "y = [3,4,21]\n",
    "d2 = np.array([y,[7,8,90]])\n",
    "d2 = np.array([[1,2,3],[4,5,6]])\n",
    "d2.ndim #2d array\n",
    "'''\n",
    "The number of data in 1st array of this 2d array should be the same as the number of\n",
    "elements in the second array.\n",
    "'''"
   ]
  },
  {
   "attachments": {},
   "cell_type": "markdown",
   "metadata": {},
   "source": [
    "<h3>3d Array</h3>"
   ]
  },
  {
   "cell_type": "code",
   "execution_count": null,
   "metadata": {},
   "outputs": [],
   "source": [
    "d3 = np.array([[[1,2,3],[4,5,6],[7,8,9]]])\n",
    "print(d3)"
   ]
  },
  {
   "attachments": {},
   "cell_type": "markdown",
   "metadata": {},
   "source": [
    "<h3>ND Array"
   ]
  },
  {
   "cell_type": "code",
   "execution_count": null,
   "metadata": {},
   "outputs": [],
   "source": [
    "#Now lets create a 10 dimension array\n",
    "\n",
    "d10 = np.array([1,2,3],ndmin = 10)\n",
    "print(d10) \n",
    "d10.ndim"
   ]
  },
  {
   "attachments": {},
   "cell_type": "markdown",
   "metadata": {},
   "source": [
    "<h1>Functions on Arrays"
   ]
  },
  {
   "attachments": {},
   "cell_type": "markdown",
   "metadata": {},
   "source": [
    "<h3> Create arrays based on values they contain"
   ]
  },
  {
   "cell_type": "code",
   "execution_count": null,
   "metadata": {},
   "outputs": [],
   "source": [
    "#Create an array of zero\n",
    "zero_arr = np.zeros(4) #Creates a 1d array of 4 elements with all zero\n",
    "print(zero_arr)\n",
    "zero_arr2 = np.zeros((3,4)) #creates a 2d array of size 3,4\n",
    "print(zero_arr2)"
   ]
  },
  {
   "cell_type": "code",
   "execution_count": null,
   "metadata": {},
   "outputs": [],
   "source": [
    "#Create an array of 1\n",
    "\n",
    "one1 = np.ones(5)\n",
    "print(one1)\n",
    "\n",
    "one2 = np.ones((3,4))\n",
    "print(one2) "
   ]
  },
  {
   "cell_type": "code",
   "execution_count": null,
   "metadata": {},
   "outputs": [],
   "source": [
    "#Create an array of null\n",
    "\n",
    "empty = np.empty(4) #creates an empty array of size 4\n",
    "print(empty)"
   ]
  },
  {
   "cell_type": "code",
   "execution_count": null,
   "metadata": {},
   "outputs": [],
   "source": [
    "#Array that conatins value in range\n",
    "arr = np.arange(4) #0,1,2,3\n",
    "\n",
    "print(arr)\n",
    "\n",
    "arr = np.arange(2,10) #From 2 to 9\n",
    "\n",
    "# alpha = np.arange('C','K') -> throws error"
   ]
  },
  {
   "cell_type": "code",
   "execution_count": null,
   "metadata": {},
   "outputs": [],
   "source": [
    "#A matrix with diagonal elemets 1\n",
    "\n",
    "arr_dig = np.eye(3) #Creates a 3x3 matrix with diagonal elemets 1\n",
    "\n",
    "#using dimension\n",
    "arr_dig = np.eye(3,5) #Creates a 3 x 5 array with diagonals 1\n",
    "print(arr_dig)"
   ]
  },
  {
   "cell_type": "code",
   "execution_count": null,
   "metadata": {},
   "outputs": [],
   "source": [
    "#Get elements with a particular gapping between two numbers\n",
    "\n",
    "arr_lin = np.linspace(2,10,num = 10) # 10 numbers between 2 and 10 with same diffrence\n",
    "print(arr_lin)"
   ]
  },
  {
   "attachments": {},
   "cell_type": "markdown",
   "metadata": {},
   "source": [
    "<h3> Random numbers"
   ]
  },
  {
   "attachments": {},
   "cell_type": "markdown",
   "metadata": {},
   "source": [
    "<h5>rand() -> generate random number between 0 and 1"
   ]
  },
  {
   "cell_type": "code",
   "execution_count": null,
   "metadata": {},
   "outputs": [],
   "source": [
    "\n",
    "arr_rnd = np.random.rand(4) #creates an array of 4 elemets having random numbers between 0 and 1\n",
    "# print(arr_rnd)\n",
    "\n",
    "arr_rnd = np.random.rand(2,4) #creates a 2d array of 8 elemets having random numbers between 0 and 1\n",
    "# print(arr_rnd)\n"
   ]
  },
  {
   "attachments": {},
   "cell_type": "markdown",
   "metadata": {},
   "source": [
    "<h5>randn() -> Generate random number close to zero, can be +ve and -ve."
   ]
  },
  {
   "cell_type": "code",
   "execution_count": null,
   "metadata": {},
   "outputs": [],
   "source": [
    "randn = np.random.randn(5) #5 numbers in the array\n",
    "\n",
    "randn = np.random.randn(2,3) #2x3 numbers in the array, takes n(1,2...n) inputs\n",
    "print(randn)\n",
    "\n"
   ]
  },
  {
   "attachments": {},
   "cell_type": "markdown",
   "metadata": {},
   "source": [
    "<h5>ranf() -> Generates random number between [0,1)"
   ]
  },
  {
   "cell_type": "code",
   "execution_count": null,
   "metadata": {},
   "outputs": [],
   "source": [
    "ranf = np.random.ranf(5)\n",
    "\n",
    "ranf = np.random.ranf((3,4)) #Creates 2x3 ranf() array, takes a tupple\n",
    "print(ranf)"
   ]
  },
  {
   "attachments": {},
   "cell_type": "markdown",
   "metadata": {},
   "source": [
    "<h5>randint (min,max,total value) -> creates an array of integers betwen min and max value"
   ]
  },
  {
   "cell_type": "code",
   "execution_count": null,
   "metadata": {},
   "outputs": [],
   "source": [
    "randInt = np.random.randint(5,6,3) #3 values between 5 and 10\n",
    "print(\"hello\")"
   ]
  },
  {
   "attachments": {},
   "cell_type": "markdown",
   "metadata": {},
   "source": [
    "<h1> Airthmetic Operation"
   ]
  },
  {
   "attachments": {},
   "cell_type": "markdown",
   "metadata": {},
   "source": [
    "<h2> 1D array"
   ]
  },
  {
   "cell_type": "code",
   "execution_count": null,
   "metadata": {},
   "outputs": [],
   "source": [
    "var1 = np.array([1,2,3,4])\n",
    "print(var1 + 3) #adds 3 to each element of the array\n",
    "\n",
    "var2 = np.array([19,28,57,26])\n",
    "print(var1 + var2) #adds var1 and var2 at respective index\n",
    "\n",
    "var3 = var1 * 3\n",
    "print(var3) #multipleis 3 in each element of var1 (same for + - / **{power} %{modulo})\n",
    "\n",
    "var4 = var1 * var2\n",
    "print(var4) #mulitplies var1 and var2 at respective index (same for + - / **{power} %{modulo})\n",
    "\n",
    "var5 = 1/var1 #resiprocal , 1/[each element of var1]\n",
    "print(var5)"
   ]
  },
  {
   "attachments": {},
   "cell_type": "markdown",
   "metadata": {},
   "source": [
    "<h4> Using Functions"
   ]
  },
  {
   "cell_type": "code",
   "execution_count": null,
   "metadata": {},
   "outputs": [],
   "source": [
    "var = np.add(var1,3) #same as var1 + 3\n",
    "print(var)\n",
    "'''\n",
    "We also have these functions\n",
    "1- np.multiply(var1,var2)\n",
    "2- np.subtract(var1,var2)\n",
    "3- np.divide(var1,var2)\n",
    "4- np.mod(var1,var2)\n",
    "5- np.power(var1,var2)\n",
    "6- np.reciprocal(var1,var2)\n",
    "'''"
   ]
  },
  {
   "attachments": {},
   "cell_type": "markdown",
   "metadata": {},
   "source": [
    "<h2>2D array"
   ]
  },
  {
   "cell_type": "code",
   "execution_count": null,
   "metadata": {},
   "outputs": [],
   "source": [
    "var = np.array([[1,2,3],[4,5,6]])\n",
    "var2 = np.array([[7,8,9],[10,11,12]])\n",
    "\n",
    "var3 = var + var2 \n",
    "\n",
    "'''\n",
    "1 + 7   2 + 8     3 + 9\n",
    "4 + 10  5 + 11    6 + 12\n",
    "'''\n",
    "var3 = np.reciprocal(var3) \n",
    "'''\n",
    "Will print all zeroes if you want floating number just add .0 to any of the number\n",
    "i.e make them floating points\n",
    "'''\n",
    "\n",
    "var = np.array([[1.0,2,3],[4,5,6]])\n",
    "var2 = np.array([[7,8,9],[10,11,12]])\n",
    "\n",
    "var3 = var + var2 \n",
    "var3 = np.reciprocal(var3) "
   ]
  },
  {
   "attachments": {},
   "cell_type": "markdown",
   "metadata": {},
   "source": [
    "<h1> Arithmetic Functions"
   ]
  },
  {
   "cell_type": "code",
   "execution_count": 4,
   "metadata": {},
   "outputs": [],
   "source": [
    "arr = np.array([1,2,3,4,5,6,7,8,9,0,-1])"
   ]
  },
  {
   "attachments": {},
   "cell_type": "markdown",
   "metadata": {},
   "source": [
    "<h3> 1D Array"
   ]
  },
  {
   "cell_type": "code",
   "execution_count": 21,
   "metadata": {},
   "outputs": [
    {
     "name": "stderr",
     "output_type": "stream",
     "text": [
      "C:\\Users\\KIIT\\AppData\\Local\\Temp\\ipykernel_29692\\1909501678.py:9: RuntimeWarning: invalid value encountered in sqrt\n",
      "  np.sqrt(arr) #finds square root of each value\n"
     ]
    },
    {
     "data": {
      "text/plain": [
       "array([ 1,  3,  6, 10, 15, 21, 28, 36, 45, 45, 44])"
      ]
     },
     "execution_count": 21,
     "metadata": {},
     "output_type": "execute_result"
    }
   ],
   "source": [
    "np.min(arr) #finds the minimum value in the array\n",
    "\n",
    "np.max(arr) #finds the maximum value in the array\n",
    "\n",
    "np.argmin(arr) # gives the index of minimum value in the array\n",
    "\n",
    "np.argmax(arr) # gives the index of maximum value in the\n",
    "\n",
    "np.sqrt(arr) #finds square root of each value\n",
    "\n",
    "np.cos(arr) #Cos value of each element\n",
    "\n",
    "np.sin(arr) #Sin value of each element\n",
    "\n",
    "'''\n",
    "np.cumsum()\n",
    "\n",
    "it will cumilatively adds the elements\n",
    "\n",
    "our array -> 1 2 3 4 5 6\n",
    "\n",
    "np.cumsum(array) \n",
    "\n",
    "will give output as\n",
    "1 3 6 10 15 21\n",
    "\n",
    "1 1+2 1+2+3 1+2+3+4 1+2+3+4+5 1+2+3+4+5+6\n",
    "i.e sum of curernt element + sum of all elements before\n",
    "'''\n",
    "np.cumsum(arr)"
   ]
  },
  {
   "attachments": {},
   "cell_type": "markdown",
   "metadata": {},
   "source": [
    "<h3> 2D Array"
   ]
  },
  {
   "cell_type": "code",
   "execution_count": 15,
   "metadata": {},
   "outputs": [],
   "source": [
    "var = np.array([[1,2,3],[4,5,6]])"
   ]
  },
  {
   "cell_type": "code",
   "execution_count": 25,
   "metadata": {},
   "outputs": [
    {
     "data": {
      "text/plain": [
       "1"
      ]
     },
     "execution_count": 25,
     "metadata": {},
     "output_type": "execute_result"
    }
   ],
   "source": [
    "'''\n",
    "It is little complex to find min and max in 2D array\n",
    "\n",
    "eg- np.min()\n",
    "This takes two parameters \n",
    "    O Array\n",
    "    O Axis\n",
    "If we talk about axis it has two values 0 and 1. \n",
    "0 -> Take column wise\n",
    "1 -> Take row wise\n",
    "'''\n",
    "\n",
    "np.min(var,axis =1)\n",
    "\n",
    "'''\n",
    "Output is [1, 4]\n",
    "We took axis as 1 i.e row wise\n",
    "1 2 3\n",
    "4 5 6\n",
    "\n",
    "Lowest element in row 1 -> 1 \n",
    "Lowest element in row 2 -> 4\n",
    "\n",
    "Hence the output is 1,4\n",
    "'''\n",
    "\n",
    "np.min(var,axis = 0)\n",
    "\n",
    "'''\n",
    "Output is [1, 2 ,3]\n",
    "We took axis as 0 i.e column wise\n",
    "1 2 3\n",
    "4 5 6\n",
    "\n",
    "Lowest element in column 1 -> 1 \n",
    "Lowest element in column 2 -> 2\n",
    "Lowest element in column 2 -> 3\n",
    "\n",
    "Hence the output is 1,2,3\n",
    "\n",
    "If you dont put the axis it will just return the max or min value in the entire array\n",
    "'''\n",
    "\n",
    "np.cumsum(var,axis = 1) #axis logic is same, only if you dont put axis it will display as normal 1d array\n",
    "\n"
   ]
  }
 ],
 "metadata": {
  "kernelspec": {
   "display_name": "Python 3",
   "language": "python",
   "name": "python3"
  },
  "language_info": {
   "codemirror_mode": {
    "name": "ipython",
    "version": 3
   },
   "file_extension": ".py",
   "mimetype": "text/x-python",
   "name": "python",
   "nbconvert_exporter": "python",
   "pygments_lexer": "ipython3",
   "version": "3.11.1"
  },
  "orig_nbformat": 4,
  "vscode": {
   "interpreter": {
    "hash": "366fc43e61dc3e1cf3ac432936cc45eb1586b2ea335d1b3e1c18de6c8b76373d"
   }
  }
 },
 "nbformat": 4,
 "nbformat_minor": 2
}
